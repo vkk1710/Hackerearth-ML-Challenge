{
  "nbformat": 4,
  "nbformat_minor": 0,
  "metadata": {
    "colab": {
      "name": "Aircraft_hackerearth.ipynb",
      "provenance": [],
      "collapsed_sections": []
    },
    "kernelspec": {
      "name": "python3",
      "display_name": "Python 3"
    }
  },
  "cells": [
    {
      "cell_type": "code",
      "metadata": {
        "id": "zj6kna-oQ3ZC"
      },
      "source": [
        "import numpy as np\n",
        "import pandas as pd\n",
        "import os\n",
        "os.listdir()\n",
        "import matplotlib.pyplot as plt"
      ],
      "execution_count": null,
      "outputs": []
    },
    {
      "cell_type": "code",
      "metadata": {
        "id": "D0iO4zdunG6P",
        "outputId": "563e9ced-dd0c-4989-f749-d4fa3acc4747",
        "colab": {
          "base_uri": "https://localhost:8080/",
          "height": 34
        }
      },
      "source": [
        "os.getcwd()"
      ],
      "execution_count": null,
      "outputs": [
        {
          "output_type": "execute_result",
          "data": {
            "text/plain": [
              "'/content'"
            ]
          },
          "metadata": {
            "tags": []
          },
          "execution_count": 35
        }
      ]
    },
    {
      "cell_type": "code",
      "metadata": {
        "id": "pc_l4uYhm6Iq",
        "outputId": "807208c3-bc5a-4192-a0b0-1220f0cb8990",
        "colab": {
          "base_uri": "https://localhost:8080/",
          "height": 215
        }
      },
      "source": [
        "data = pd.read_csv('train.csv')\n",
        "data.head()"
      ],
      "execution_count": null,
      "outputs": [
        {
          "output_type": "execute_result",
          "data": {
            "text/html": [
              "<div>\n",
              "<style scoped>\n",
              "    .dataframe tbody tr th:only-of-type {\n",
              "        vertical-align: middle;\n",
              "    }\n",
              "\n",
              "    .dataframe tbody tr th {\n",
              "        vertical-align: top;\n",
              "    }\n",
              "\n",
              "    .dataframe thead th {\n",
              "        text-align: right;\n",
              "    }\n",
              "</style>\n",
              "<table border=\"1\" class=\"dataframe\">\n",
              "  <thead>\n",
              "    <tr style=\"text-align: right;\">\n",
              "      <th></th>\n",
              "      <th>Severity</th>\n",
              "      <th>Safety_Score</th>\n",
              "      <th>Days_Since_Inspection</th>\n",
              "      <th>Total_Safety_Complaints</th>\n",
              "      <th>Control_Metric</th>\n",
              "      <th>Turbulence_In_gforces</th>\n",
              "      <th>Cabin_Temperature</th>\n",
              "      <th>Accident_Type_Code</th>\n",
              "      <th>Max_Elevation</th>\n",
              "      <th>Violations</th>\n",
              "      <th>Adverse_Weather_Metric</th>\n",
              "      <th>Accident_ID</th>\n",
              "    </tr>\n",
              "  </thead>\n",
              "  <tbody>\n",
              "    <tr>\n",
              "      <th>0</th>\n",
              "      <td>Minor_Damage_And_Injuries</td>\n",
              "      <td>49.223744</td>\n",
              "      <td>14</td>\n",
              "      <td>22</td>\n",
              "      <td>71.285324</td>\n",
              "      <td>0.272118</td>\n",
              "      <td>78.04</td>\n",
              "      <td>2</td>\n",
              "      <td>31335.476824</td>\n",
              "      <td>3</td>\n",
              "      <td>0.424352</td>\n",
              "      <td>7570</td>\n",
              "    </tr>\n",
              "    <tr>\n",
              "      <th>1</th>\n",
              "      <td>Minor_Damage_And_Injuries</td>\n",
              "      <td>62.465753</td>\n",
              "      <td>10</td>\n",
              "      <td>27</td>\n",
              "      <td>72.288058</td>\n",
              "      <td>0.423939</td>\n",
              "      <td>84.54</td>\n",
              "      <td>2</td>\n",
              "      <td>26024.711057</td>\n",
              "      <td>2</td>\n",
              "      <td>0.352350</td>\n",
              "      <td>12128</td>\n",
              "    </tr>\n",
              "    <tr>\n",
              "      <th>2</th>\n",
              "      <td>Significant_Damage_And_Fatalities</td>\n",
              "      <td>63.059361</td>\n",
              "      <td>13</td>\n",
              "      <td>16</td>\n",
              "      <td>66.362808</td>\n",
              "      <td>0.322604</td>\n",
              "      <td>78.86</td>\n",
              "      <td>7</td>\n",
              "      <td>39269.053927</td>\n",
              "      <td>3</td>\n",
              "      <td>0.003364</td>\n",
              "      <td>2181</td>\n",
              "    </tr>\n",
              "    <tr>\n",
              "      <th>3</th>\n",
              "      <td>Significant_Damage_And_Serious_Injuries</td>\n",
              "      <td>48.082192</td>\n",
              "      <td>11</td>\n",
              "      <td>9</td>\n",
              "      <td>74.703737</td>\n",
              "      <td>0.337029</td>\n",
              "      <td>81.79</td>\n",
              "      <td>3</td>\n",
              "      <td>42771.499200</td>\n",
              "      <td>1</td>\n",
              "      <td>0.211728</td>\n",
              "      <td>5946</td>\n",
              "    </tr>\n",
              "    <tr>\n",
              "      <th>4</th>\n",
              "      <td>Significant_Damage_And_Fatalities</td>\n",
              "      <td>26.484018</td>\n",
              "      <td>13</td>\n",
              "      <td>25</td>\n",
              "      <td>47.948952</td>\n",
              "      <td>0.541140</td>\n",
              "      <td>77.16</td>\n",
              "      <td>3</td>\n",
              "      <td>35509.228515</td>\n",
              "      <td>2</td>\n",
              "      <td>0.176883</td>\n",
              "      <td>9054</td>\n",
              "    </tr>\n",
              "  </tbody>\n",
              "</table>\n",
              "</div>"
            ],
            "text/plain": [
              "                                  Severity  ...  Accident_ID\n",
              "0                Minor_Damage_And_Injuries  ...         7570\n",
              "1                Minor_Damage_And_Injuries  ...        12128\n",
              "2        Significant_Damage_And_Fatalities  ...         2181\n",
              "3  Significant_Damage_And_Serious_Injuries  ...         5946\n",
              "4        Significant_Damage_And_Fatalities  ...         9054\n",
              "\n",
              "[5 rows x 12 columns]"
            ]
          },
          "metadata": {
            "tags": []
          },
          "execution_count": 36
        }
      ]
    },
    {
      "cell_type": "code",
      "metadata": {
        "id": "KkYzE_G2ECvY",
        "outputId": "c1c7a81a-8ebd-4c1b-b6b4-ec9b21ca9e1a",
        "colab": {
          "base_uri": "https://localhost:8080/",
          "height": 296
        }
      },
      "source": [
        "import seaborn as sns\n",
        "\n",
        "sns.countplot(x=\"Violations\",data=data)"
      ],
      "execution_count": null,
      "outputs": [
        {
          "output_type": "execute_result",
          "data": {
            "text/plain": [
              "<matplotlib.axes._subplots.AxesSubplot at 0x7f9f3af90a90>"
            ]
          },
          "metadata": {
            "tags": []
          },
          "execution_count": 37
        },
        {
          "output_type": "display_data",
          "data": {
            "image/png": "[encoded data removed]",
            "text/plain": [
              "<Figure size 432x288 with 1 Axes>"
            ]
          },
          "metadata": {
            "tags": []
          }
        }
      ]
    },
    {
      "cell_type": "code",
      "metadata": {
        "id": "4nWlf-_PLezb",
        "outputId": "6d198abd-2e27-4b47-fa58-1a45a195cb84",
        "colab": {
          "base_uri": "https://localhost:8080/",
          "height": 481
        }
      },
      "source": [
        "import matplotlib.pyplot as plt\n",
        "fig, ax = plt.subplots()\n",
        "data['Severity'].value_counts().plot(ax=ax, kind='bar')"
      ],
      "execution_count": null,
      "outputs": [
        {
          "output_type": "execute_result",
          "data": {
            "text/plain": [
              "<matplotlib.axes._subplots.AxesSubplot at 0x7f9f3aecaf28>"
            ]
          },
          "metadata": {
            "tags": []
          },
          "execution_count": 38
        },
        {
          "output_type": "display_data",
          "data": {
            "image/png": "[encoded data removed]",
            "text/plain": [
              "<Figure size 432x288 with 1 Axes>"
            ]
          },
          "metadata": {
            "tags": []
          }
        }
      ]
    },
    {
      "cell_type": "code",
      "metadata": {
        "id": "YgkuaBhvLgI2",
        "outputId": "18853e2f-63d9-4efb-a273-8e56d1f79d6e",
        "colab": {
          "base_uri": "https://localhost:8080/",
          "height": 297
        }
      },
      "source": [
        "sns.countplot(x=\"Accident_Type_Code\",data=data)"
      ],
      "execution_count": null,
      "outputs": [
        {
          "output_type": "execute_result",
          "data": {
            "text/plain": [
              "<matplotlib.axes._subplots.AxesSubplot at 0x7f9f3ae98588>"
            ]
          },
          "metadata": {
            "tags": []
          },
          "execution_count": 39
        },
        {
          "output_type": "display_data",
          "data": {
            "image/png": "[encoded data removed]",
            "text/plain": [
              "<Figure size 432x288 with 1 Axes>"
            ]
          },
          "metadata": {
            "tags": []
          }
        }
      ]
    },
    {
      "cell_type": "code",
      "metadata": {
        "id": "OcJCo_e2nQf_",
        "outputId": "edda2fb1-e578-4fd3-ef53-5d3102d2c22e",
        "colab": {
          "base_uri": "https://localhost:8080/",
          "height": 588
        }
      },
      "source": [
        "target = data['Severity']\n",
        "data = data.drop(['Severity','Cabin_Temperature','Accident_ID'],axis = 'columns')\n",
        "print(data.head())\n",
        "print(target)\n",
        "data.info()"
      ],
      "execution_count": null,
      "outputs": [
        {
          "output_type": "stream",
          "text": [
            "   Safety_Score  Days_Since_Inspection  ...  Violations  Adverse_Weather_Metric\n",
            "0     49.223744                     14  ...           3                0.424352\n",
            "1     62.465753                     10  ...           2                0.352350\n",
            "2     63.059361                     13  ...           3                0.003364\n",
            "3     48.082192                     11  ...           1                0.211728\n",
            "4     26.484018                     13  ...           2                0.176883\n",
            "\n",
            "[5 rows x 9 columns]\n",
            "0                     Minor_Damage_And_Injuries\n",
            "1                     Minor_Damage_And_Injuries\n",
            "2             Significant_Damage_And_Fatalities\n",
            "3       Significant_Damage_And_Serious_Injuries\n",
            "4             Significant_Damage_And_Fatalities\n",
            "                         ...                   \n",
            "9995    Significant_Damage_And_Serious_Injuries\n",
            "9996                  Highly_Fatal_And_Damaging\n",
            "9997    Significant_Damage_And_Serious_Injuries\n",
            "9998                  Minor_Damage_And_Injuries\n",
            "9999                  Highly_Fatal_And_Damaging\n",
            "Name: Severity, Length: 10000, dtype: object\n",
            "<class 'pandas.core.frame.DataFrame'>\n",
            "RangeIndex: 10000 entries, 0 to 9999\n",
            "Data columns (total 9 columns):\n",
            "Safety_Score               10000 non-null float64\n",
            "Days_Since_Inspection      10000 non-null int64\n",
            "Total_Safety_Complaints    10000 non-null int64\n",
            "Control_Metric             10000 non-null float64\n",
            "Turbulence_In_gforces      10000 non-null float64\n",
            "Accident_Type_Code         10000 non-null int64\n",
            "Max_Elevation              10000 non-null float64\n",
            "Violations                 10000 non-null int64\n",
            "Adverse_Weather_Metric     10000 non-null float64\n",
            "dtypes: float64(5), int64(4)\n",
            "memory usage: 703.2 KB\n"
          ],
          "name": "stdout"
        }
      ]
    },
    {
      "cell_type": "code",
      "metadata": {
        "id": "SBT_jvjN2mjX",
        "outputId": "3a6e6ead-76c8-4fe0-dd59-97c5631c3570",
        "colab": {
          "base_uri": "https://localhost:8080/",
          "height": 319
        }
      },
      "source": [
        "from sklearn.feature_selection import SelectKBest,f_classif\n",
        "selector = SelectKBest(score_func = f_classif,k=7)\n",
        "data_sel = selector.fit_transform(data,target)\n",
        "#print(data_sel.shape)\n",
        "#print(np.log10(selector.scores_))\n",
        "print(selector.scores_)\n",
        "#print(data_sel)"
      ],
      "execution_count": null,
      "outputs": [
        {
          "output_type": "stream",
          "text": [
            "(10000, 7)\n",
            "[2.72536317 0.90766168 0.38312895 2.21509918 1.7598087  2.39558369\n",
            " 0.65761715 1.23893464 1.98602752]\n",
            "[531.32857516   8.08465849   2.41617814 164.09644616  57.51865241\n",
            " 248.64726529   4.54587146  17.33543099  96.83392121]\n",
            "[[4.92237443e+01 1.40000000e+01 7.12853236e+01 ... 2.00000000e+00\n",
            "  3.00000000e+00 4.24352083e-01]\n",
            " [6.24657534e+01 1.00000000e+01 7.22880583e+01 ... 2.00000000e+00\n",
            "  2.00000000e+00 3.52349973e-01]\n",
            " [6.30593607e+01 1.30000000e+01 6.63628077e+01 ... 7.00000000e+00\n",
            "  3.00000000e+00 3.36390699e-03]\n",
            " ...\n",
            " [2.78538813e+01 1.70000000e+01 6.95989061e+01 ... 3.00000000e+00\n",
            "  3.00000000e+00 1.68173043e-01]\n",
            " [5.62100457e+01 8.00000000e+00 3.98359161e+01 ... 5.00000000e+00\n",
            "  2.00000000e+00 2.63809289e-02]\n",
            " [5.00000000e+01 1.30000000e+01 4.54876937e+01 ... 5.00000000e+00\n",
            "  2.00000000e+00 1.70358910e-02]]\n"
          ],
          "name": "stdout"
        }
      ]
    },
    {
      "cell_type": "code",
      "metadata": {
        "id": "iruBcGe2ojLR"
      },
      "source": [
        "from sklearn.model_selection import train_test_split\n",
        "Xtrain,Xtest,ytrain,ytest = train_test_split(data_sel,target,test_size = 0.2)"
      ],
      "execution_count": null,
      "outputs": []
    },
    {
      "cell_type": "code",
      "metadata": {
        "id": "OC0Jzsq51WiW",
        "outputId": "485de36f-ecf5-4787-9031-c0ae9ec0be65",
        "colab": {
          "base_uri": "https://localhost:8080/",
          "height": 269
        }
      },
      "source": [
        "from sklearn.preprocessing import StandardScaler\n",
        "Xscaled = StandardScaler().fit_transform(Xtrain)\n",
        "print(Xscaled) \n",
        "Xtest = StandardScaler().fit_transform(Xtest)\n",
        "print(Xtest[0])"
      ],
      "execution_count": null,
      "outputs": [
        {
          "output_type": "stream",
          "text": [
            "[[ 6.54367912e-01 -1.11396609e+00  1.42756471e+00 ... -4.34361274e-01\n",
            "  -9.63602939e-01 -2.37347231e-01]\n",
            " [-2.01289356e+00  1.70067882e+00 -1.28417796e+00 ...  9.25364049e-02\n",
            "  -9.63602939e-01 -4.80947663e-01]\n",
            " [-3.49744307e-01 -5.51037107e-01  1.19743096e+00 ...  9.25364049e-02\n",
            "   9.64808196e-01 -5.43497462e-01]\n",
            " ...\n",
            " [ 3.21011848e-02 -2.69572616e-01 -7.74048149e-01 ... -4.34361274e-01\n",
            "  -1.92780851e+00 -4.68167190e-01]\n",
            " [ 2.32923629e-01  1.41921433e+00 -6.35967900e-01 ...  1.67322944e+00\n",
            "   6.02628480e-04 -6.59384767e-01]\n",
            " [-1.49245230e+00  8.56285347e-01 -2.52411654e-01 ... -9.61258953e-01\n",
            "  -1.92780851e+00  2.63257306e-01]]\n",
            "[-0.73093385  0.91139815  1.09661466  0.38543978 -1.44618333  0.89232259\n",
            "  1.63229973]\n"
          ],
          "name": "stdout"
        }
      ]
    },
    {
      "cell_type": "code",
      "metadata": {
        "id": "O8YEYatn0TRl",
        "outputId": "beaa1208-9ce2-430e-ff10-83210b31d267",
        "colab": {
          "base_uri": "https://localhost:8080/",
          "height": 423
        }
      },
      "source": [
        "from sklearn.metrics import accuracy_score,f1_score\n",
        "from sklearn.linear_model import LogisticRegression\n",
        "from sklearn.svm import LinearSVC\n",
        "from sklearn.tree import DecisionTreeClassifier\n",
        "for clf in [LogisticRegression(),DecisionTreeClassifier(),LinearSVC()]:\n",
        " clf.fit(Xscaled,ytrain)\n",
        " ypredtrain = clf.predict(Xscaled)\n",
        " print(str(clf)+':')\n",
        " print(100*(f1_score(ytrain,ypredtrain,average = 'weighted')))\n",
        " ypredtest = clf.predict(Xtest)\n",
        " print(100*(f1_score(ytest,ypredtest,average = 'weighted')))\n",
        " "
      ],
      "execution_count": null,
      "outputs": [
        {
          "output_type": "stream",
          "text": [
            "LogisticRegression(C=1.0, class_weight=None, dual=False, fit_intercept=True,\n",
            "                   intercept_scaling=1, l1_ratio=None, max_iter=100,\n",
            "                   multi_class='auto', n_jobs=None, penalty='l2',\n",
            "                   random_state=None, solver='lbfgs', tol=0.0001, verbose=0,\n",
            "                   warm_start=False):\n",
            "63.29280098601715\n",
            "63.13174472173014\n",
            "DecisionTreeClassifier(ccp_alpha=0.0, class_weight=None, criterion='gini',\n",
            "                       max_depth=None, max_features=None, max_leaf_nodes=None,\n",
            "                       min_impurity_decrease=0.0, min_impurity_split=None,\n",
            "                       min_samples_leaf=1, min_samples_split=2,\n",
            "                       min_weight_fraction_leaf=0.0, presort='deprecated',\n",
            "                       random_state=None, splitter='best'):\n",
            "100.0\n",
            "89.08014617359436\n",
            "LinearSVC(C=1.0, class_weight=None, dual=True, fit_intercept=True,\n",
            "          intercept_scaling=1, loss='squared_hinge', max_iter=1000,\n",
            "          multi_class='ovr', penalty='l2', random_state=None, tol=0.0001,\n",
            "          verbose=0):\n",
            "54.44250818386024\n",
            "55.30236541708241\n"
          ],
          "name": "stdout"
        },
        {
          "output_type": "stream",
          "text": [
            "/usr/local/lib/python3.6/dist-packages/sklearn/svm/_base.py:947: ConvergenceWarning: Liblinear failed to converge, increase the number of iterations.\n",
            "  \"the number of iterations.\", ConvergenceWarning)\n"
          ],
          "name": "stderr"
        }
      ]
    },
    {
      "cell_type": "code",
      "metadata": {
        "id": "L6OlKxOuaq00",
        "outputId": "d4571252-32d2-47df-b139-734820d3e66d",
        "colab": {
          "base_uri": "https://localhost:8080/",
          "height": 50
        }
      },
      "source": [
        "cl = LinearSVC(max_iter = 2000)\n",
        "cl.fit(Xscaled,ytrain)\n",
        "ypredltr = c.predict(Xscaled)\n",
        "ypredlte = c.predict(Xtest)\n",
        "print(accuracy_score(ytrain,ypredltr))\n",
        "print(accuracy_score(ytest,ypredlte))"
      ],
      "execution_count": null,
      "outputs": [
        {
          "output_type": "stream",
          "text": [
            "0.915\n",
            "0.9035\n"
          ],
          "name": "stdout"
        }
      ]
    },
    {
      "cell_type": "code",
      "metadata": {
        "id": "Kd6nY4YAf3ZS",
        "outputId": "47ddc02b-dd53-4339-8617-5dc0ea7187da",
        "colab": {
          "base_uri": "https://localhost:8080/",
          "height": 50
        }
      },
      "source": [
        "from sklearn.tree import DecisionTreeClassifier\n",
        "clf = DecisionTreeClassifier()\n",
        "clf.fit(Xscaled,ytrain)\n",
        "ypredtrain = clf.predict(Xscaled)\n",
        "ypredtest = clf.predict(Xtest)\n",
        "print(accuracy_score(ytrain,ypredtrain))\n",
        "print(accuracy_score(ytest,ypredtest))"
      ],
      "execution_count": null,
      "outputs": [
        {
          "output_type": "stream",
          "text": [
            "1.0\n",
            "0.8875\n"
          ],
          "name": "stdout"
        }
      ]
    },
    {
      "cell_type": "code",
      "metadata": {
        "id": "OWF_TYlHhsn-",
        "outputId": "19b57d85-01ce-4356-d903-e095586d262f",
        "colab": {
          "base_uri": "https://localhost:8080/",
          "height": 101
        }
      },
      "source": [
        "from sklearn.neighbors import KNeighborsClassifier\n",
        "neigh = KNeighborsClassifier(n_neighbors=4,algorithm='auto')\n",
        "neigh.fit(Xscaled, ytrain)\n",
        "print(accuracy_score(ytrain,neigh.predict(Xscaled)))\n",
        "print(accuracy_score(ytest,neigh.predict(Xtest)))\n",
        "print(neigh)"
      ],
      "execution_count": null,
      "outputs": [
        {
          "output_type": "stream",
          "text": [
            "0.884125\n",
            "0.797\n",
            "KNeighborsClassifier(algorithm='auto', leaf_size=30, metric='minkowski',\n",
            "                     metric_params=None, n_jobs=None, n_neighbors=4, p=2,\n",
            "                     weights='uniform')\n"
          ],
          "name": "stdout"
        }
      ]
    },
    {
      "cell_type": "code",
      "metadata": {
        "id": "XYHdoeaphtpr"
      },
      "source": [
        "#from sklearn.model_selection import GridSearchCV\n",
        "#from sklearn.metrics import accuracy_score,make_scorer\n",
        "#params = {'kernel':['poly','rbf','sigmoid'],'degree':[3,5,6],'gamma':['auto','scale'],'C':[0.01,0.1,1]}\n",
        "#scorer = make_scorer(accuracy_score)\n",
        "#go = GridSearchCV(estimator=SVC(),param_grid=params,scoring=scorer,n_jobs=-1)\n",
        "#go.fit(Xscaled,ytrain)\n",
        "#print(go.best_params_)"
      ],
      "execution_count": null,
      "outputs": []
    },
    {
      "cell_type": "code",
      "metadata": {
        "id": "H5ddEdoRl3Fm"
      },
      "source": [
        "#est = go.best_estimator_\n",
        "#est.fit(Xscaled,ytrain)\n",
        "#print(accuracy_score(ytrain,c.predict(Xscaled)))\n",
        "#print(accuracy_score(ytest,c.predict(Xtest)))\n",
        "#print(est)"
      ],
      "execution_count": null,
      "outputs": []
    },
    {
      "cell_type": "code",
      "metadata": {
        "id": "z0tEs5QbgFTz",
        "outputId": "9b1f4e7b-850e-4d55-dd6d-597e959be852",
        "colab": {
          "base_uri": "https://localhost:8080/",
          "height": 118
        }
      },
      "source": [
        "from sklearn.svm import SVC\n",
        "c = SVC(kernel='rbf',degree=3,gamma='auto')\n",
        "c.fit(Xscaled,ytrain)\n",
        "print(accuracy_score(ytrain,c.predict(Xscaled)))\n",
        "print(accuracy_score(ytest,c.predict(Xtest)))\n",
        "print(c)"
      ],
      "execution_count": null,
      "outputs": [
        {
          "output_type": "stream",
          "text": [
            "0.914875\n",
            "0.8925\n",
            "SVC(C=1.0, break_ties=False, cache_size=200, class_weight=None, coef0=0.0,\n",
            "    decision_function_shape='ovr', degree=3, gamma='auto', kernel='rbf',\n",
            "    max_iter=-1, probability=False, random_state=None, shrinking=True,\n",
            "    tol=0.001, verbose=False)\n"
          ],
          "name": "stdout"
        }
      ]
    },
    {
      "cell_type": "code",
      "metadata": {
        "id": "3DIX8IdyJ9jU",
        "outputId": "b5202d29-40ca-4af0-9513-58509c4e0718",
        "colab": {
          "base_uri": "https://localhost:8080/",
          "height": 218
        }
      },
      "source": [
        "data_test = pd.read_csv('test.csv')\n",
        "acc =  data_test['Accident_ID']\n",
        "acc"
      ],
      "execution_count": null,
      "outputs": [
        {
          "output_type": "execute_result",
          "data": {
            "text/plain": [
              "0           1\n",
              "1          10\n",
              "2          14\n",
              "3          17\n",
              "4          21\n",
              "        ...  \n",
              "2495    12484\n",
              "2496    12487\n",
              "2497    12488\n",
              "2498    12491\n",
              "2499    12493\n",
              "Name: Accident_ID, Length: 2500, dtype: int64"
            ]
          },
          "metadata": {
            "tags": []
          },
          "execution_count": 60
        }
      ]
    },
    {
      "cell_type": "code",
      "metadata": {
        "id": "3Pa35V3NMhJT",
        "outputId": "18e69be5-544a-4b3e-ce22-a14256146177",
        "colab": {
          "base_uri": "https://localhost:8080/",
          "height": 218
        }
      },
      "source": [
        "data_test1 = data_test.drop(['Cabin_Temperature','Accident_ID','Total_Safety_Complaints','Max_Elevation'],axis = 'columns')\n",
        "data_test1 = StandardScaler().fit_transform(data_test1)\n",
        "pred = c.predict(data_test1)\n",
        "pred1 = pd.Series(pred)\n",
        "print(pred1)"
      ],
      "execution_count": null,
      "outputs": [
        {
          "output_type": "stream",
          "text": [
            "0                     Highly_Fatal_And_Damaging\n",
            "1             Significant_Damage_And_Fatalities\n",
            "2       Significant_Damage_And_Serious_Injuries\n",
            "3                     Highly_Fatal_And_Damaging\n",
            "4                     Highly_Fatal_And_Damaging\n",
            "                         ...                   \n",
            "2495                  Highly_Fatal_And_Damaging\n",
            "2496    Significant_Damage_And_Serious_Injuries\n",
            "2497    Significant_Damage_And_Serious_Injuries\n",
            "2498    Significant_Damage_And_Serious_Injuries\n",
            "2499                  Highly_Fatal_And_Damaging\n",
            "Length: 2500, dtype: object\n"
          ],
          "name": "stdout"
        }
      ]
    },
    {
      "cell_type": "code",
      "metadata": {
        "id": "rKIstvJSmA_R",
        "outputId": "7f15801b-5b05-4d7f-9513-490bb4ea71ce",
        "colab": {
          "base_uri": "https://localhost:8080/",
          "height": 252
        }
      },
      "source": [
        "dict = {'Accident_ID' : acc, 'Severity' : pred1}\n",
        "df = pd.DataFrame(dict)\n",
        "print(df)\n",
        "df.to_csv('prediction.csv',index = False)\n"
      ],
      "execution_count": null,
      "outputs": [
        {
          "output_type": "stream",
          "text": [
            "      Accident_ID                                 Severity\n",
            "0               1                Highly_Fatal_And_Damaging\n",
            "1              10        Significant_Damage_And_Fatalities\n",
            "2              14  Significant_Damage_And_Serious_Injuries\n",
            "3              17                Highly_Fatal_And_Damaging\n",
            "4              21                Highly_Fatal_And_Damaging\n",
            "...           ...                                      ...\n",
            "2495        12484                Highly_Fatal_And_Damaging\n",
            "2496        12487  Significant_Damage_And_Serious_Injuries\n",
            "2497        12488  Significant_Damage_And_Serious_Injuries\n",
            "2498        12491  Significant_Damage_And_Serious_Injuries\n",
            "2499        12493                Highly_Fatal_And_Damaging\n",
            "\n",
            "[2500 rows x 2 columns]\n"
          ],
          "name": "stdout"
        }
      ]
    }
  ]
}